{
 "cells": [
  {
   "cell_type": "code",
   "execution_count": 1,
   "id": "58319804",
   "metadata": {},
   "outputs": [],
   "source": [
    "import matplotlib.pyplot as plt\n",
    "import pandas as pd\n",
    "import geopandas as gpd\n",
    "import numpy as np\n",
    "import json\n",
    "import networkx as nx\n",
    "import math\n",
    "import random\n",
    "import networkx as nx\n",
    "#random.seed(2024)\n",
    "\n",
    "import shapely\n",
    "\n",
    "#import maup\n",
    "import warnings; warnings.filterwarnings('ignore', 'GeoSeries.isna', UserWarning)\n",
    "#maup.progress.enabled = True\n",
    "\n",
    "from gerrychain import Graph, GeographicPartition, Partition, updaters, Election, MarkovChain\n",
    "from gerrychain.updaters import Tally, cut_edges\n",
    "from gerrychain.tree import recursive_seed_part, bipartition_tree\n",
    "from gerrychain.proposals import recom\n",
    "from gerrychain.accept import always_accept\n",
    "from gerrychain.constraints.validity import within_percent_of_ideal_population\n",
    "from functools import partial\n",
    "\n",
    "from gerrychain.constraints import contiguous\n",
    "\n",
    "from itertools import combinations\n",
    "import time"
   ]
  },
  {
   "cell_type": "code",
   "execution_count": 5,
   "id": "5be5e73f",
   "metadata": {},
   "outputs": [
    {
     "name": "stderr",
     "output_type": "stream",
     "text": [
      "C:\\Users\\edoua\\anaconda3\\Lib\\site-packages\\pandas\\core\\frame.py:717: DeprecationWarning: Passing a BlockManager to GeoDataFrame is deprecated and will raise in a future version. Use public APIs instead.\n",
      "  warnings.warn(\n",
      "C:\\Users\\edoua\\anaconda3\\Lib\\site-packages\\pandas\\core\\frame.py:717: DeprecationWarning: Passing a BlockManager to GeoDataFrame is deprecated and will raise in a future version. Use public APIs instead.\n",
      "  warnings.warn(\n",
      "C:\\Users\\edoua\\anaconda3\\Lib\\site-packages\\gerrychain\\graph\\graph.py:275: UserWarning: GeoDataFrame has no CRS. Did you forget to set it? If you're sure this is correct, you can ignore this warning. Otherwise, please set the CRS using the `crs_override` parameter. Attempting to proceed without a CRS.\n",
      "  warnings.warn(\n",
      "C:\\Users\\edoua\\anaconda3\\Lib\\site-packages\\pandas\\core\\frame.py:717: DeprecationWarning: Passing a BlockManager to GeoDataFrame is deprecated and will raise in a future version. Use public APIs instead.\n",
      "  warnings.warn(\n"
     ]
    },
    {
     "data": {
      "text/plain": [
       "<Axes: >"
      ]
     },
     "execution_count": 5,
     "metadata": {},
     "output_type": "execute_result"
    },
    {
     "data": {
      "image/png": "[encoded data removed]",
      "text/plain": [
       "<Figure size 640x480 with 1 Axes>"
      ]
     },
     "metadata": {},
     "output_type": "display_data"
    }
   ],
   "source": [
    "#The pencil metric! This one is good and not evil (probably)\n",
    "#needs cut_edges to be added to updaters\n",
    "#The main thing you need to believe is that this is zero iff the partitions are the same\n",
    "def pencil_dist(partition1,partition2):\n",
    "    return len(partition1.cut_edges.difference(partition2.cut_edges))+len(partition2.cut_edges.difference(partition1.cut_edges))\n",
    "\n",
    "#the toymaker makes toy graphs (outputs a gdf)\n",
    "def toymaker(n,m):\n",
    "    rootsquare = np.array([(0., 0.), (0., 1.), (1., 1.), (1., 0.), (0., 0.)])\n",
    "    upshift = np.array([(0., 1.), (0., 1.), (0., 1.), (0., 1.), (0., 1.)])\n",
    "    rightshift = np.array([(1., 0.), (1., 0.), (1., 0.), (1., 0.), (1., 0.)])\n",
    "    nodelist = []\n",
    "    for i in range(m):\n",
    "        tempsquare = np.array(rootsquare)\n",
    "        for j in range(n):\n",
    "            nodelist.append([i*10+j,1,i,j,i,shapely.geometry.Polygon(tempsquare)])\n",
    "            tempsquare += upshift\n",
    "        rootsquare+=rightshift\n",
    "    return gpd.GeoDataFrame(nodelist,columns=[\"Precinct\",\"TOTPOP\",\"x\",\"y\",\"part\",\"geometry\"]) #crs=\"EPSG:4326\" ? idk\n",
    "\n",
    "#This generates a 6x6 toy\n",
    "G = Graph.from_geodataframe(toymaker(7,7))\n",
    "\n",
    "my_updaters = {\n",
    "    \"cut_edges\": updaters.cut_edges#,\n",
    "    #\"population\": updaters.Tally(\"TOTPOP\", alias=\"population\")\n",
    "}\n",
    "\n",
    "starting_partition = Partition(\n",
    "    G,\n",
    "    assignment=\"part\",\n",
    "    updaters=my_updaters\n",
    ")\n",
    "\n",
    "#some post-processing to make the initial partition friendlier to swap steps\n",
    "\n",
    "#for i in range(64):\n",
    "#    if (i//8)%2 ==0:\n",
    "#        if i%8 in {0,1,2,3}:\n",
    "#            starting_partition = starting_partition.flip({i:starting_partition.assignment[i]+1})\n",
    "#    if (i//8)%2 ==1:\n",
    "#        if i%8 in {4,5,6,7}:\n",
    "#            starting_partition = starting_partition.flip({i:starting_partition.assignment[i]-1})\n",
    "\n",
    "starting_partition.plot(edgecolor=\"black\")"
   ]
  },
  {
   "cell_type": "code",
   "execution_count": 7,
   "id": "8c7212bd",
   "metadata": {},
   "outputs": [],
   "source": [
    "#this sorts the cut_edges of the partition into a dictionary with entries\n",
    "# {part1,part2} : set(cut_edges between part1 & part2)\n",
    "#we also truncate all the bins with less than 2 cut_edges, since those can't produce any swap_steps\n",
    "def sorted_cut_edges(partition):\n",
    "    bins = dict()\n",
    "    n=len(partition.parts)\n",
    "    for i in range(n):\n",
    "        for j in range(i+1,n):\n",
    "            bins[frozenset({i,j})] = set()\n",
    "    for edge in partition.cut_edges:\n",
    "        bins[frozenset({partition.assignment[edge[0]],partition.assignment[edge[1]]})].add(edge)\n",
    "    for key, edges in bins.copy().items():\n",
    "        if len(edges)<2:\n",
    "            del bins[key]\n",
    "    return bins\n",
    "\n",
    "#this will force a swap step between edge1 and edge2\n",
    "#note this isn't symmetric, it matters how edge1 and edge2 are inputted\n",
    "#if the edges don't lie on the boundary between the same two parts, this returns the same partition as it was given\n",
    "def force_swap(partition,edge1,edge2):\n",
    "    if partition.assignment[edge1[0]] == partition.assignment[edge2[0]]:\n",
    "        partition = partition.flip({edge1[0]:partition.assignment[edge1[1]],edge2[1]:partition.assignment[edge2[0]]})\n",
    "    elif partition.assignment[edge1[0]] == partition.assignment[edge2[1]]:\n",
    "         partition = partition.flip({edge1[0]:partition.assignment[edge1[1]],edge2[0]:partition.assignment[edge2[1]]})\n",
    "    return partition\n",
    "\n",
    "#this generates a list of every partition that can be reached in a single swap step\n",
    "def neighbors(partition):\n",
    "    neighbors = []\n",
    "    bins = sorted_cut_edges(partition)\n",
    "    for edges in bins.values():\n",
    "        for edge_pair in combinations(edges,2):\n",
    "            new_partition = force_swap(partition, edge_pair[0], edge_pair[1])\n",
    "            if contiguous(new_partition):\n",
    "                neighbors.append(new_partition)\n",
    "            new_partition = force_swap(partition, edge_pair[1], edge_pair[0])\n",
    "            if contiguous(new_partition):\n",
    "                neighbors.append(new_partition)\n",
    "    #sometimes there are multiple ways of getting to the same neighbor \n",
    "    #so we need to remove duplicates from our list\n",
    "    i = 0\n",
    "    while i<len(neighbors):\n",
    "        j=0\n",
    "        while i+j+1<len(neighbors):\n",
    "            j+=1\n",
    "            if pencil_dist(neighbors[i],neighbors[i+j]) == 0:\n",
    "                del neighbors[i+j]\n",
    "                j+=-1\n",
    "        i+=1\n",
    "    return neighbors"
   ]
  },
  {
   "cell_type": "code",
   "execution_count": 3,
   "id": "50c3964c-5103-459b-a18b-404f3dbf72cf",
   "metadata": {},
   "outputs": [
    {
     "name": "stdout",
     "output_type": "stream",
     "text": [
      "(0.9054875911984499, 0.6035011440577244)\n"
     ]
    }
   ],
   "source": [
    "#Toy example\n",
    "M_7 = 158753814\n",
    "nodes = []\n",
    "for i in range(M_7):\n",
    "    nodes.append((random.random(),random.random()))\n",
    "print(nodes[0])"
   ]
  },
  {
   "cell_type": "code",
   "execution_count": 23,
   "id": "4a06682f-0937-456e-be08-290d01496c8d",
   "metadata": {},
   "outputs": [
    {
     "name": "stdout",
     "output_type": "stream",
     "text": [
      "500.2\n"
     ]
    }
   ],
   "source": [
    "past = set()\n",
    "L_times = []\n",
    "#pick r so that a euclidean ball of radius r contains 6*10**(-6) of the area in [0,1]x[0,1]\n",
    "r = (6*10**(-6)/math.pi)**(1/2)\n",
    "for j in range(20000):\n",
    "    new_node = random.choice(nodes)\n",
    "    for old_node in past:\n",
    "        if (new_node[0]-old_node[0])**2 + (new_node[1]-old_node[1])**2 < r**2:\n",
    "            L_times.append(len(past)+1)\n",
    "            past = set()\n",
    "            break\n",
    "    past.add(new_node)\n",
    "print(sum(L_times)/len(L_times))"
   ]
  },
  {
   "cell_type": "code",
   "execution_count": 29,
   "id": "1078d8fb-4d33-4754-9ad0-4a576d96a1a2",
   "metadata": {},
   "outputs": [
    {
     "name": "stdout",
     "output_type": "stream",
     "text": [
      "-0.046853047574655436\n"
     ]
    }
   ],
   "source": [
    "def expected_T(N,M):\n",
    "    factor = float(N/M)\n",
    "    expectation = 0\n",
    "    for t in range(math.ceil(M/N)):\n",
    "        expectation+=factor*(t**2+t)\n",
    "        factor*=(M-t*N)/M\n",
    "    return(expectation)\n",
    "\n",
    "def seek_M(L,N):\n",
    "    b = 2**int(math.log(L,2)+1)\n",
    "    overshot = 0\n",
    "    while not overshot:\n",
    "        if expected_T(N,b)>L:\n",
    "            overshot = 1\n",
    "        else: \n",
    "            b*=2\n",
    "    a = int(b/2)\n",
    "    while b-a !=1:\n",
    "        c= (b+a)/2\n",
    "        if expected_T(N,c)>L:\n",
    "            b=int(c)\n",
    "        else:\n",
    "            a=int(c)\n",
    "    if expected_T(N,a)-L>L-expected_T(N,b) :\n",
    "        return b\n",
    "    else:\n",
    "        return a\n",
    "\n",
    "print((seek_M(500.2,6*10**(-6)*M_7)-M_7)/M_7)"
   ]
  },
  {
   "cell_type": "code",
   "execution_count": 7,
   "id": "612f4793",
   "metadata": {},
   "outputs": [],
   "source": [
    "#This cell is probably not needed anymore\n",
    "partition = starting_partition\n",
    "current_neighbors = neighbors(partition)\n",
    "def min_dist(partition, listt):\n",
    "    return min([pencil_dist(partition, thing) for thing in listt])"
   ]
  },
  {
   "cell_type": "code",
   "execution_count": 11,
   "id": "8d7b58ee",
   "metadata": {},
   "outputs": [],
   "source": [
    "t_mix = 300\n",
    "n_sample=50*500\n",
    "n_steps = t_mix*n_sample\n",
    "\n",
    "partition=starting_partition\n",
    "neighbor_list = neighbors(partition)\n",
    "past=set()\n",
    "L_times=[362, 638, 878, 1131, 550, 345, 227, 884, 457, 627, 199, 439, 614, 1237, 456, 1032, 268, 103, 1011, 460, 998]\n",
    "#L_times=[261, 35, 349, 224, 215, 347, 59, 356, 17, 266, 39, 209, 355, 358, 105, 415, 62]\n",
    "#L_times =[213, 273, 50, 440, 290, 423, 288, 134, 365, 288, 334, 342, 207, 278, 230, 355, 234, 272, 310, 492, 344, 29, 270, 344, 325, 383]"
   ]
  },
  {
   "cell_type": "code",
   "execution_count": null,
   "id": "fe7ca7cd",
   "metadata": {},
   "outputs": [
    {
     "name": "stdout",
     "output_type": "stream",
     "text": [
      "Finished step 4880 out of 25000. Hitting times: [362, 638, 878, 1131, 550, 345, 227, 884, 457, 627, 199, 439, 614, 1237, 456, 1032, 268, 103, 1011, 460, 998, 664, 1018, 191, 810, 210, 875, 319, 249].\r"
     ]
    }
   ],
   "source": [
    "r=13\n",
    "for i_step in range(1,n_steps+1):\n",
    "    #here = 1\n",
    "    #while here:\n",
    "    new_partition = random.choice(neighbor_list)\n",
    "    new_neighbors = neighbors(new_partition)\n",
    "    if random.random()<min(1,len(neighbor_list)/len(new_neighbors)):\n",
    "        #here =0\n",
    "        neighbor_list = list(new_neighbors)\n",
    "        partition = new_partition\n",
    "    if i_step%t_mix ==0:\n",
    "        for old_partition in past:\n",
    "            if pencil_dist(old_partition, partition)<r:\n",
    "                L_times.append(len(past)+1)\n",
    "                past=set()\n",
    "                #hitting_times.append(len(past)+2)\n",
    "                break\n",
    "        past.add(partition)\n",
    "        print(f\"Finished step {int(i_step/t_mix)} out of {n_sample}. Hitting times: {L_times}.\",end=\"\\r\")"
   ]
  },
  {
   "cell_type": "code",
   "execution_count": 33,
   "id": "fdd4b7c1",
   "metadata": {},
   "outputs": [
    {
     "data": {
      "text/plain": [
       "599.5178571428571"
      ]
     },
     "execution_count": 33,
     "metadata": {},
     "output_type": "execute_result"
    }
   ],
   "source": [
    "sum(N_values)/len(N_values)"
   ]
  },
  {
   "cell_type": "code",
   "execution_count": null,
   "id": "68a99246-a334-43ae-965c-d5cf9c30f59a",
   "metadata": {},
   "outputs": [],
   "source": []
  }
 ],
 "metadata": {
  "kernelspec": {
   "display_name": "Python [conda env:base] *",
   "language": "python",
   "name": "conda-base-py"
  },
  "language_info": {
   "codemirror_mode": {
    "name": "ipython",
    "version": 3
   },
   "file_extension": ".py",
   "mimetype": "text/x-python",
   "name": "python",
   "nbconvert_exporter": "python",
   "pygments_lexer": "ipython3",
   "version": "3.12.3"
  }
 },
 "nbformat": 4,
 "nbformat_minor": 5
}
